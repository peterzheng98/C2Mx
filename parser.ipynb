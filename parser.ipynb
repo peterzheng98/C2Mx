{
 "metadata": {
  "language_info": {
   "codemirror_mode": {
    "name": "ipython",
    "version": 3
   },
   "file_extension": ".py",
   "mimetype": "text/x-python",
   "name": "python",
   "nbconvert_exporter": "python",
   "pygments_lexer": "ipython3",
   "version": "3.8.6-final"
  },
  "orig_nbformat": 2,
  "kernelspec": {
   "name": "Python 3.8.6 64-bit",
   "display_name": "Python 3.8.6 64-bit",
   "metadata": {
    "interpreter": {
     "hash": "df0893f56f349688326838aaeea0de204df53a132722cbd565e54b24a8fec5f6"
    }
   }
  }
 },
 "nbformat": 4,
 "nbformat_minor": 2,
 "cells": [
  {
   "cell_type": "code",
   "execution_count": 2,
   "metadata": {},
   "outputs": [],
   "source": [
    "import clang"
   ]
  },
  {
   "cell_type": "code",
   "execution_count": 3,
   "metadata": {},
   "outputs": [],
   "source": [
    "import sys\n",
    "import clang.cindex\n",
    "\n",
    "from clang.cindex import Config\n",
    "from clang.cindex import Cursor\n",
    "from clang.cindex import CursorKind\n"
   ]
  },
  {
   "cell_type": "code",
   "execution_count": 4,
   "metadata": {},
   "outputs": [],
   "source": [
    "Config.set_library_file(\"/usr/lib/llvm-10/lib/libclang-10.so.1\")"
   ]
  },
  {
   "cell_type": "code",
   "execution_count": 5,
   "metadata": {},
   "outputs": [],
   "source": [
    "index = clang.cindex.Index.create()\n",
    "tu = index.parse('./ParsingSample/cf-96100658.c')"
   ]
  },
  {
   "cell_type": "code",
   "execution_count": 15,
   "metadata": {},
   "outputs": [],
   "source": [
    "def find_typerefs(node, typename):\n",
    "    \"\"\" Find all references to the type named 'typename'\n",
    "    \"\"\"\n",
    "    if node.kind.is_reference():\n",
    "        ref_node = clang.cindex.Cursor_ref(node)\n",
    "        if ref_node.spelling == typename:\n",
    "            print('Found %s [line=%s, col=%s]' % (\n",
    "                typename, node.location.line, node.location.column))\n",
    "    # Recurse for children of this node\n",
    "    for c in node.get_children():\n",
    "        find_typerefs(c, typename)"
   ]
  },
  {
   "cell_type": "code",
   "execution_count": 16,
   "metadata": {},
   "outputs": [
    {
     "output_type": "stream",
     "name": "stdout",
     "text": [
      "./ParsingSample/cf-96100658.c\n"
     ]
    }
   ],
   "source": [
    "print(tu.spelling)\n"
   ]
  },
  {
   "cell_type": "code",
   "execution_count": null,
   "metadata": {},
   "outputs": [],
   "source": []
  }
 ]
}