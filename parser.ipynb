{
 "metadata": {
  "language_info": {
   "codemirror_mode": {
    "name": "ipython",
    "version": 3
   },
   "file_extension": ".py",
   "mimetype": "text/x-python",
   "name": "python",
   "nbconvert_exporter": "python",
   "pygments_lexer": "ipython3",
   "version": "3.8.3-final"
  },
  "orig_nbformat": 2,
  "kernelspec": {
   "name": "Python 3.8.3 64-bit ('anaconda3': virtualenv)",
   "display_name": "Python 3.8.3 64-bit ('anaconda3': virtualenv)",
   "metadata": {
    "interpreter": {
     "hash": "d247a79abe1c4143ab029bdbf0f26e80fd423d48fc20fbeb2239b8c4931f04be"
    }
   }
  }
 },
 "nbformat": 4,
 "nbformat_minor": 2,
 "cells": [
  {
   "cell_type": "code",
   "execution_count": 1,
   "metadata": {},
   "outputs": [],
   "source": [
    "import clang"
   ]
  },
  {
   "cell_type": "code",
   "execution_count": 2,
   "metadata": {},
   "outputs": [],
   "source": [
    "import sys\n",
    "import clang.cindex\n",
    "\n",
    "from clang.cindex import Config\n",
    "from clang.cindex import Cursor\n",
    "from clang.cindex import CursorKind\n"
   ]
  },
  {
   "cell_type": "code",
   "execution_count": 3,
   "metadata": {},
   "outputs": [],
   "source": [
    "# if linux\n",
    "Config.set_library_file(\"/usr/lib/llvm-10/lib/libclang-10.so.1\")"
   ]
  },
  {
   "source": [
    "# if mac\n",
    "Config.set_library_file('/Library/Developer/CommandLineTools/usr/lib/libclang.dylib')"
   ],
   "cell_type": "code",
   "metadata": {},
   "execution_count": 5,
   "outputs": []
  },
  {
   "cell_type": "code",
   "execution_count": 6,
   "metadata": {},
   "outputs": [],
   "source": [
    "index = clang.cindex.Index.create()\n",
    "tu = index.parse('./ParsingSample/cf-96100658.c')"
   ]
  },
  {
   "cell_type": "code",
   "execution_count": 7,
   "metadata": {},
   "outputs": [],
   "source": [
    "def find_typerefs(node, typename):\n",
    "    \"\"\" Find all references to the type named 'typename'\n",
    "    \"\"\"\n",
    "    if node.kind.is_reference():\n",
    "        ref_node = clang.cindex.Cursor_ref(node)\n",
    "        if ref_node.spelling == typename:\n",
    "            print('Found %s [line=%s, col=%s]' % (\n",
    "                typename, node.location.line, node.location.column))\n",
    "    # Recurse for children of this node\n",
    "    for c in node.get_children():\n",
    "        find_typerefs(c, typename)"
   ]
  },
  {
   "cell_type": "code",
   "execution_count": 25,
   "metadata": {},
   "outputs": [],
   "source": [
    "# A function show(level, *args) would have been simpler but less fun\n",
    "# and you'd need a separate parameter for the AST walkers if you want it to be exchangeable.\n",
    "class Level(int):\n",
    "    '''represent currently visited level of a tree'''\n",
    "\n",
    "    def show(self, *args):\n",
    "        '''pretty print an indented line'''\n",
    "        print('\\t' * self + ' '.join(map(str, args)))\n",
    "\n",
    "    def __add__(self, inc):\n",
    "        '''increase level'''\n",
    "        return Level(super(Level, self).__add__(inc))\n",
    "\n"
   ]
  },
  {
   "cell_type": "code",
   "execution_count": 21,
   "metadata": {},
   "outputs": [],
   "source": [
    "def show_ast(cursor, level=Level()):\n",
    "    '''pretty print cursor AST'''\n",
    "    if True:\n",
    "        level.show(cursor.kind, cursor.spelling, cursor.displayname, cursor.location)\n",
    "        for c in cursor.get_children():\n",
    "            show_ast(c, level + 1)"
   ]
  },
  {
   "cell_type": "code",
   "execution_count": 12,
   "metadata": {},
   "outputs": [],
   "source": [
    "def is_valid_type(t):\n",
    "    '''used to check if a cursor has a type'''\n",
    "    return t.kind != clang.cindex.TypeKind.INVALID"
   ]
  },
  {
   "cell_type": "code",
   "execution_count": 17,
   "metadata": {},
   "outputs": [],
   "source": [
    "def show_type(t, level, title):\n",
    "    '''pretty print type AST'''\n",
    "    level.show(title, str(t.kind), ' '.join(qualifiers(t)))\n",
    "    if is_valid_type(t.get_pointee()):\n",
    "        show_type(t.get_pointee(), level + 1, 'points to:')"
   ]
  },
  {
   "cell_type": "code",
   "execution_count": 19,
   "metadata": {},
   "outputs": [],
   "source": [
    "def qualifiers(t):\n",
    "    '''set of qualifiers of a type'''\n",
    "    q = set()\n",
    "    if t.is_const_qualified(): q.add('const')\n",
    "    if t.is_volatile_qualified(): q.add('volatile')\n",
    "    if t.is_restrict_qualified(): q.add('restrict')\n",
    "    return q"
   ]
  },
  {
   "cell_type": "code",
   "execution_count": 24,
   "metadata": {
    "tags": []
   },
   "outputs": [
    {
     "output_type": "stream",
     "name": "stdout",
     "text": [
      "CursorKind.TRANSLATION_UNIT ./ParsingSample/cf-96100658.c ./ParsingSample/cf-96100658.c <SourceLocation file None, line 0, column 0>\n"
     ]
    },
    {
     "output_type": "error",
     "ename": "TypeError",
     "evalue": "super(type, obj): obj must be an instance or subtype of type",
     "traceback": [
      "\u001b[0;31m---------------------------------------------------------------------------\u001b[0m",
      "\u001b[0;31mTypeError\u001b[0m                                 Traceback (most recent call last)",
      "\u001b[0;32m<ipython-input-24-8e0e4b42b565>\u001b[0m in \u001b[0;36m<module>\u001b[0;34m\u001b[0m\n\u001b[0;32m----> 1\u001b[0;31m \u001b[0mshow_ast\u001b[0m\u001b[0;34m(\u001b[0m\u001b[0mtu\u001b[0m\u001b[0;34m.\u001b[0m\u001b[0mcursor\u001b[0m\u001b[0;34m)\u001b[0m\u001b[0;34m\u001b[0m\u001b[0;34m\u001b[0m\u001b[0m\n\u001b[0m",
      "\u001b[0;32m<ipython-input-21-38df0bcaaecb>\u001b[0m in \u001b[0;36mshow_ast\u001b[0;34m(cursor, level)\u001b[0m\n\u001b[1;32m      4\u001b[0m         \u001b[0mlevel\u001b[0m\u001b[0;34m.\u001b[0m\u001b[0mshow\u001b[0m\u001b[0;34m(\u001b[0m\u001b[0mcursor\u001b[0m\u001b[0;34m.\u001b[0m\u001b[0mkind\u001b[0m\u001b[0;34m,\u001b[0m \u001b[0mcursor\u001b[0m\u001b[0;34m.\u001b[0m\u001b[0mspelling\u001b[0m\u001b[0;34m,\u001b[0m \u001b[0mcursor\u001b[0m\u001b[0;34m.\u001b[0m\u001b[0mdisplayname\u001b[0m\u001b[0;34m,\u001b[0m \u001b[0mcursor\u001b[0m\u001b[0;34m.\u001b[0m\u001b[0mlocation\u001b[0m\u001b[0;34m)\u001b[0m\u001b[0;34m\u001b[0m\u001b[0;34m\u001b[0m\u001b[0m\n\u001b[1;32m      5\u001b[0m         \u001b[0;32mfor\u001b[0m \u001b[0mc\u001b[0m \u001b[0;32min\u001b[0m \u001b[0mcursor\u001b[0m\u001b[0;34m.\u001b[0m\u001b[0mget_children\u001b[0m\u001b[0;34m(\u001b[0m\u001b[0;34m)\u001b[0m\u001b[0;34m:\u001b[0m\u001b[0;34m\u001b[0m\u001b[0;34m\u001b[0m\u001b[0m\n\u001b[0;32m----> 6\u001b[0;31m             \u001b[0mshow_ast\u001b[0m\u001b[0;34m(\u001b[0m\u001b[0mc\u001b[0m\u001b[0;34m,\u001b[0m \u001b[0mlevel\u001b[0m \u001b[0;34m+\u001b[0m \u001b[0;36m1\u001b[0m\u001b[0;34m)\u001b[0m\u001b[0;34m\u001b[0m\u001b[0;34m\u001b[0m\u001b[0m\n\u001b[0m",
      "\u001b[0;32m<ipython-input-9-280475fc1b08>\u001b[0m in \u001b[0;36m__add__\u001b[0;34m(self, inc)\u001b[0m\n\u001b[1;32m     10\u001b[0m     \u001b[0;32mdef\u001b[0m \u001b[0m__add__\u001b[0m\u001b[0;34m(\u001b[0m\u001b[0mself\u001b[0m\u001b[0;34m,\u001b[0m \u001b[0minc\u001b[0m\u001b[0;34m)\u001b[0m\u001b[0;34m:\u001b[0m\u001b[0;34m\u001b[0m\u001b[0;34m\u001b[0m\u001b[0m\n\u001b[1;32m     11\u001b[0m         \u001b[0;34m'''increase level'''\u001b[0m\u001b[0;34m\u001b[0m\u001b[0;34m\u001b[0m\u001b[0m\n\u001b[0;32m---> 12\u001b[0;31m         \u001b[0;32mreturn\u001b[0m \u001b[0mLevel\u001b[0m\u001b[0;34m(\u001b[0m\u001b[0msuper\u001b[0m\u001b[0;34m(\u001b[0m\u001b[0mLevel\u001b[0m\u001b[0;34m,\u001b[0m \u001b[0mself\u001b[0m\u001b[0;34m)\u001b[0m\u001b[0;34m.\u001b[0m\u001b[0m__add__\u001b[0m\u001b[0;34m(\u001b[0m\u001b[0minc\u001b[0m\u001b[0;34m)\u001b[0m\u001b[0;34m)\u001b[0m\u001b[0;34m\u001b[0m\u001b[0;34m\u001b[0m\u001b[0m\n\u001b[0m\u001b[1;32m     13\u001b[0m \u001b[0;34m\u001b[0m\u001b[0m\n",
      "\u001b[0;31mTypeError\u001b[0m: super(type, obj): obj must be an instance or subtype of type"
     ]
    }
   ],
   "source": [
    "show_ast(tu.cursor)\n"
   ]
  },
  {
   "cell_type": "code",
   "execution_count": null,
   "metadata": {},
   "outputs": [],
   "source": []
  }
 ]
}