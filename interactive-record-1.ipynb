{
 "cells": [
  {
   "cell_type": "code",
   "execution_count": 1,
   "metadata": {},
   "outputs": [],
   "source": [
    "# To add a new cell, type '# %%'\n",
    "# To add a new markdown cell, type '# %% [markdown]'\n",
    "# %%\n",
    "import clang\n",
    "\n"
   ]
  },
  {
   "cell_type": "code",
   "execution_count": 2,
   "metadata": {},
   "outputs": [],
   "source": [
    "import sys\n",
    "import clang.cindex\n",
    "\n",
    "from clang.cindex import Config\n",
    "from clang.cindex import Cursor\n",
    "from clang.cindex import CursorKind\n",
    "\n"
   ]
  },
  {
   "cell_type": "code",
   "execution_count": 3,
   "metadata": {},
   "outputs": [],
   "source": [
    "# if linux\n",
    "# Config.set_library_file(\"/usr/lib/llvm-10/lib/libclang-10.so.1\")\n",
    "\n"
   ]
  },
  {
   "cell_type": "code",
   "execution_count": 4,
   "metadata": {},
   "outputs": [],
   "source": [
    "# if mac\n",
    "Config.set_library_file('/Library/Developer/CommandLineTools/usr/lib/libclang.dylib')\n",
    "\n"
   ]
  },
  {
   "cell_type": "code",
   "execution_count": 5,
   "metadata": {},
   "outputs": [],
   "source": [
    "index = clang.cindex.Index.create()\n",
    "tu = index.parse('./ParsingSample/cf-96100658.c')\n",
    "\n"
   ]
  },
  {
   "cell_type": "code",
   "execution_count": 6,
   "metadata": {},
   "outputs": [
    {
     "data": {
      "text/plain": "CursorKind.TRANSLATION_UNIT"
     },
     "execution_count": 6,
     "metadata": {},
     "output_type": "execute_result"
    }
   ],
   "source": [
    "tu.cursor.kind"
   ]
  },
  {
   "cell_type": "code",
   "execution_count": 7,
   "metadata": {},
   "outputs": [
    {
     "data": {
      "text/plain": "'./ParsingSample/cf-96100658.c'"
     },
     "execution_count": 7,
     "metadata": {},
     "output_type": "execute_result"
    }
   ],
   "source": [
    "tu.cursor.spelling"
   ]
  },
  {
   "cell_type": "code",
   "execution_count": 8,
   "metadata": {},
   "outputs": [
    {
     "data": {
      "text/plain": "clang.cindex.Cursor"
     },
     "execution_count": 8,
     "metadata": {},
     "output_type": "execute_result"
    }
   ],
   "source": [
    "type(tu.cursor)"
   ]
  },
  {
   "cell_type": "code",
   "execution_count": 9,
   "metadata": {},
   "outputs": [
    {
     "data": {
      "text/plain": "<list_iterator at 0x7fa198295580>"
     },
     "execution_count": 9,
     "metadata": {},
     "output_type": "execute_result"
    }
   ],
   "source": [
    "tu.cursor.get_children()"
   ]
  },
  {
   "cell_type": "code",
   "execution_count": 10,
   "metadata": {},
   "outputs": [
    {
     "data": {
      "text/plain": "<list_iterator at 0x7fa1b8deca30>"
     },
     "execution_count": 10,
     "metadata": {},
     "output_type": "execute_result"
    }
   ],
   "source": [
    "tu.cursor.get_children()"
   ]
  },
  {
   "cell_type": "code",
   "execution_count": 11,
   "metadata": {},
   "outputs": [
    {
     "data": {
      "text/plain": "<list_iterator at 0x7fa1a8186250>"
     },
     "execution_count": 11,
     "metadata": {},
     "output_type": "execute_result"
    }
   ],
   "source": [
    "tu.cursor.get_children()"
   ]
  },
  {
   "cell_type": "code",
   "execution_count": 12,
   "metadata": {},
   "outputs": [
    {
     "data": {
      "text/plain": "[<clang.cindex.Cursor at 0x7fa1a818ec40>,\n <clang.cindex.Cursor at 0x7fa1a818ecc0>,\n <clang.cindex.Cursor at 0x7fa1a818ed40>,\n <clang.cindex.Cursor at 0x7fa1a818edc0>,\n <clang.cindex.Cursor at 0x7fa1a818ee40>,\n <clang.cindex.Cursor at 0x7fa1a818eec0>,\n <clang.cindex.Cursor at 0x7fa1a818ef40>,\n <clang.cindex.Cursor at 0x7fa1a8191040>,\n <clang.cindex.Cursor at 0x7fa1a81910c0>,\n <clang.cindex.Cursor at 0x7fa1a8191140>,\n <clang.cindex.Cursor at 0x7fa1a8191240>,\n <clang.cindex.Cursor at 0x7fa1a81912c0>,\n <clang.cindex.Cursor at 0x7fa1a8191340>,\n <clang.cindex.Cursor at 0x7fa1a81913c0>,\n <clang.cindex.Cursor at 0x7fa1a8191440>,\n <clang.cindex.Cursor at 0x7fa1a81914c0>,\n <clang.cindex.Cursor at 0x7fa1a8191540>,\n <clang.cindex.Cursor at 0x7fa1a81915c0>,\n <clang.cindex.Cursor at 0x7fa1a81911c0>]"
     },
     "execution_count": 12,
     "metadata": {},
     "output_type": "execute_result"
    }
   ],
   "source": [
    "list(tu.cursor.get_children())"
   ]
  },
  {
   "cell_type": "code",
   "execution_count": 13,
   "metadata": {},
   "outputs": [
    {
     "data": {
      "text/plain": "['min',\n 'ii',\n 'jj',\n 'ww',\n 'oh',\n 'oo',\n 'append',\n 'dd_',\n 'iq',\n 'pq',\n 'cnt',\n 'lt',\n 'p2',\n 'pq_up',\n 'pq_dn',\n 'pq_add_last',\n 'pq_remove_first',\n 'dijkstra',\n 'main']"
     },
     "execution_count": 13,
     "metadata": {},
     "output_type": "execute_result"
    }
   ],
   "source": [
    "[i.spelling for i in list(tu.cursor.get_children())]"
   ]
  },
  {
   "cell_type": "code",
   "execution_count": 14,
   "metadata": {},
   "outputs": [],
   "source": [
    "child_list = list(tu.cursor.get_children())"
   ]
  },
  {
   "cell_type": "code",
   "execution_count": 15,
   "metadata": {},
   "outputs": [
    {
     "data": {
      "text/plain": "<clang.cindex.Cursor at 0x7fa1b8de34c0>"
     },
     "execution_count": 15,
     "metadata": {},
     "output_type": "execute_result"
    }
   ],
   "source": [
    "child_list[0]"
   ]
  },
  {
   "cell_type": "code",
   "execution_count": 16,
   "metadata": {},
   "outputs": [
    {
     "data": {
      "text/plain": "<clang.cindex.Type at 0x7fa1a8191f40>"
     },
     "execution_count": 16,
     "metadata": {},
     "output_type": "execute_result"
    }
   ],
   "source": [
    "child_list[0].type"
   ]
  },
  {
   "cell_type": "code",
   "execution_count": 17,
   "metadata": {},
   "outputs": [
    {
     "data": {
      "text/plain": "CursorKind.FUNCTION_DECL"
     },
     "execution_count": 17,
     "metadata": {},
     "output_type": "execute_result"
    }
   ],
   "source": [
    "child_list[0].kind"
   ]
  },
  {
   "cell_type": "code",
   "execution_count": 18,
   "metadata": {},
   "outputs": [
    {
     "data": {
      "text/plain": "<list_iterator at 0x7fa1a8198280>"
     },
     "execution_count": 18,
     "metadata": {},
     "output_type": "execute_result"
    }
   ],
   "source": [
    "child_list[0].get_children()"
   ]
  },
  {
   "cell_type": "code",
   "execution_count": 19,
   "metadata": {},
   "outputs": [
    {
     "data": {
      "text/plain": "[<clang.cindex.Cursor at 0x7fa1a8195640>,\n <clang.cindex.Cursor at 0x7fa1a81956c0>,\n <clang.cindex.Cursor at 0x7fa1a8195740>]"
     },
     "execution_count": 19,
     "metadata": {},
     "output_type": "execute_result"
    }
   ],
   "source": [
    "list(child_list[0].get_children())"
   ]
  },
  {
   "cell_type": "code",
   "execution_count": 20,
   "metadata": {},
   "outputs": [
    {
     "data": {
      "text/plain": "['a', 'b', '']"
     },
     "execution_count": 20,
     "metadata": {},
     "output_type": "execute_result"
    }
   ],
   "source": [
    "[i.spelling for i in list(child_list[0].get_children())]"
   ]
  },
  {
   "cell_type": "code",
   "execution_count": 21,
   "metadata": {},
   "outputs": [
    {
     "data": {
      "text/plain": "[CursorKind.PARM_DECL, CursorKind.PARM_DECL, CursorKind.COMPOUND_STMT]"
     },
     "execution_count": 21,
     "metadata": {},
     "output_type": "execute_result"
    }
   ],
   "source": [
    "[i.kind for i in list(child_list[0].get_children())]"
   ]
  },
  {
   "cell_type": "code",
   "execution_count": 23,
   "outputs": [
    {
     "name": "stdout",
     "output_type": "stream",
     "text": [
      "TypeKind.INT\n"
     ]
    }
   ],
   "source": [
    "s = [i for i in list(child_list[0].get_children())]\n",
    "print(s[0].type.kind)"
   ],
   "metadata": {
    "collapsed": false,
    "pycharm": {
     "name": "#%%\n"
    }
   }
  },
  {
   "cell_type": "code",
   "execution_count": 41,
   "outputs": [],
   "source": [
    "p = child_list[-1].type"
   ],
   "metadata": {
    "collapsed": false,
    "pycharm": {
     "name": "#%%\n"
    }
   }
  }
 ],
 "nbformat": 4,
 "nbformat_minor": 2,
 "metadata": {
  "language_info": {
   "codemirror_mode": {
    "name": "ipython",
    "version": 3
   },
   "file_extension": ".py",
   "mimetype": "text/x-python",
   "name": "python",
   "nbconvert_exporter": "python",
   "pygments_lexer": "ipython3",
   "version": 3
  },
  "orig_nbformat": 2,
  "kernelspec": {
   "name": "python3",
   "language": "python",
   "display_name": "Python 3"
  }
 }
}